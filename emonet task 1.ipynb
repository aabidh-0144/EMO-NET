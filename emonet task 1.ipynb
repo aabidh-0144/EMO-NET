{
 "cells": [
  {
   "cell_type": "markdown",
   "metadata": {},
   "source": [
    "### Voice Bot: Capture and Playback Speech"
   ]
  },
  {
   "cell_type": "code",
   "execution_count": 2,
   "metadata": {},
   "outputs": [
    {
     "name": "stdout",
     "output_type": "stream",
     "text": [
      "Listening for your response to: Say something:\n",
      "You said: emotional intelligence is the ability to recognise understand and manage one's own emotion as well as those of others it involves skills such as emotional awareness empathy and their capacity to handle interpret interpersonal relationship Judiciary and empathetically he plays a critical role in effective communication conflict resolution and leadership\n"
     ]
    }
   ],
   "source": [
    "import speech_recognition as sr\n",
    "import pyttsx3\n",
    "\n",
    "def recognize_and_speak(prompt):\n",
    "    \"\"\"Recognizes speech from the microphone and speaks the result.\n",
    "\n",
    "    Args:\n",
    "        prompt (str): A prompt to provide context to the user.\n",
    "    \"\"\"\n",
    "\n",
    "    recognizer = sr.Recognizer()\n",
    "    engine = pyttsx3.init()\n",
    "\n",
    "    # Set the speaking rate to a slower speed (adjust as needed)\n",
    "    rate = engine.getProperty('rate')\n",
    "    engine.setProperty('rate', rate - 50)  # Reduce the rate by 50 words per minute\n",
    "\n",
    "    with sr.Microphone() as source:\n",
    "        print(f\"Listening for your response to: {prompt}\")\n",
    "        audio = recognizer.listen(source)\n",
    "\n",
    "    try:\n",
    "        text = recognizer.recognize_google(audio)\n",
    "        print(\"You said:\", text)\n",
    "\n",
    "        # Process the text here (if needed)\n",
    "\n",
    "        engine.say(text)\n",
    "        engine.runAndWait()\n",
    "    except sr.UnknownValueError:\n",
    "        print(\"Sorry, I couldn't understand that. Please try again.\")\n",
    "    except sr.RequestError as e:\n",
    "        print(f\"Could not request results from Google Speech Recognition service; {e}\")\n",
    "\n",
    "if __name__ == \"__main__\":\n",
    "    prompt = \"Say something:\"\n",
    "    recognize_and_speak(prompt)"
   ]
  }
 ],
 "metadata": {
  "kernelspec": {
   "display_name": "Python 3",
   "language": "python",
   "name": "python3"
  },
  "language_info": {
   "codemirror_mode": {
    "name": "ipython",
    "version": 3
   },
   "file_extension": ".py",
   "mimetype": "text/x-python",
   "name": "python",
   "nbconvert_exporter": "python",
   "pygments_lexer": "ipython3",
   "version": "3.12.0"
  }
 },
 "nbformat": 4,
 "nbformat_minor": 2
}
